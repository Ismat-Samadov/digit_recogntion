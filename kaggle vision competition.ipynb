{
 "cells": [
  {
   "cell_type": "code",
   "execution_count": 20,
   "id": "4bdcb897-1664-455c-ae27-8b37b03c5df0",
   "metadata": {},
   "outputs": [],
   "source": [
    "# dataframes & arrays\n",
    "import pandas as pd\n",
    "import numpy as np\n",
    "# timing\n",
    "import time\n",
    "#model preprocessing\n",
    "from sklearn.model_selection import train_test_split\n",
    "# neural networks\n",
    "import tensorflow as tf\n",
    "from tensorflow.keras import layers,models,Sequential\n",
    "from keras.models import Sequential\n",
    "from keras.layers import Dense, Dropout, Flatten\n",
    "from keras.layers import Conv2D, MaxPooling2D, BatchNormalization\n",
    "from keras.optimizers import adam_v2\n",
    "from keras.preprocessing.image import ImageDataGenerator"
   ]
  },
  {
   "cell_type": "code",
   "execution_count": 1,
   "id": "898a8902-752b-44df-9107-7f592a92a919",
   "metadata": {},
   "outputs": [
    {
     "name": "stdout",
     "output_type": "stream",
     "text": [
      "Note: you may need to restart the kernel to use updated packages.\n"
     ]
    },
    {
     "name": "stderr",
     "output_type": "stream",
     "text": [
      "ERROR: Could not find a version that satisfies the requirement ipykernell (from versions: none)\n",
      "ERROR: No matching distribution found for ipykernell\n"
     ]
    }
   ],
   "source": [
    "pip install ipykernell"
   ]
  },
  {
   "cell_type": "code",
   "execution_count": null,
   "id": "cf5770e0-cbc2-47fc-b637-dc2eb2a4c47c",
   "metadata": {},
   "outputs": [],
   "source": [
    "directory ='C:\\Users\\Ismat\\OneDrive\\Рабочий стол\\document\\etc\\lesson_course\\projects\\KAGGLE COMPETTION_DIGIT' "
   ]
  },
  {
   "cell_type": "code",
   "execution_count": 23,
   "id": "da14653f-ae3a-4107-b0cc-1714a19c2aaf",
   "metadata": {},
   "outputs": [],
   "source": [
    "test = pd.read_csv(r'C:\\Users\\Ismat\\OneDrive\\Рабочий стол\\document\\etc\\lesson_course\\projects\\KAGGLE COMPETTION_DIGIT\\test.csv')\n",
    "train = pd.read_csv(r'C:\\Users\\Ismat\\OneDrive\\Рабочий стол\\document\\etc\\lesson_course\\projects\\KAGGLE COMPETTION_DIGIT\\train.csv')\n",
    "sample_submission = pd.read_csv(r'C:\\Users\\Ismat\\OneDrive\\Рабочий стол\\document\\etc\\lesson_course\\projects\\KAGGLE COMPETTION_DIGIT\\sample_submission.csv')"
   ]
  },
  {
   "cell_type": "code",
   "execution_count": 24,
   "id": "ce623ec3-e24b-4110-8b3e-dbcf5e802d76",
   "metadata": {},
   "outputs": [],
   "source": [
    "X_train=train.drop('label',axis=1)\n",
    "Y_train=train.label"
   ]
  },
  {
   "cell_type": "code",
   "execution_count": 25,
   "id": "74eef3ad-7bb7-41c2-a6fb-286348ff107f",
   "metadata": {},
   "outputs": [],
   "source": [
    "X_train=np.array(X_train)/255\n",
    "X_test=np.array(test)/255"
   ]
  },
  {
   "cell_type": "code",
   "execution_count": 26,
   "id": "07c0034a-8e8e-4016-869d-974be008505f",
   "metadata": {},
   "outputs": [],
   "source": [
    "model=models.Sequential([\n",
    "    layers.Dense(3000,activation='relu',input_shape=(784,)),\n",
    "    layers.Dense(2000,activation='relu'),\n",
    "    layers.Dense(1000,activation='relu'),\n",
    "    layers.Dense(500,activation='relu'),\n",
    "    layers.Dense(250,activation='relu'),\n",
    "    layers.Dense(64,activation='relu'),\n",
    "    layers.Dense(10,activation='softmax')])"
   ]
  },
  {
   "cell_type": "code",
   "execution_count": 27,
   "id": "94abde25-258d-495d-89d4-f3db6514bc2a",
   "metadata": {},
   "outputs": [],
   "source": [
    "model.compile(optimizer='adam',\n",
    "            loss='sparse_categorical_crossentropy',\n",
    "            metrics=['accuracy'])"
   ]
  },
  {
   "cell_type": "code",
   "execution_count": null,
   "id": "83e133a5-2c71-416d-a5ee-d6da8a95b1bb",
   "metadata": {
    "scrolled": true,
    "tags": []
   },
   "outputs": [
    {
     "name": "stdout",
     "output_type": "stream",
     "text": [
      "Epoch 1/100\n",
      "1313/1313 [==============================] - 34s 26ms/step - loss: 0.2945 - accuracy: 0.9201\n",
      "Epoch 2/100\n",
      "1313/1313 [==============================] - 35s 27ms/step - loss: 0.1495 - accuracy: 0.9628\n",
      "Epoch 3/100\n",
      "1313/1313 [==============================] - 35s 27ms/step - loss: 0.1084 - accuracy: 0.9728\n",
      "Epoch 4/100\n",
      "1313/1313 [==============================] - 36s 27ms/step - loss: 0.0908 - accuracy: 0.9775\n",
      "Epoch 5/100\n",
      "1313/1313 [==============================] - 37s 28ms/step - loss: 0.0728 - accuracy: 0.9819\n",
      "Epoch 6/100\n",
      "1313/1313 [==============================] - 41s 31ms/step - loss: 0.0647 - accuracy: 0.9840\n",
      "Epoch 7/100\n",
      "1313/1313 [==============================] - 42s 32ms/step - loss: 0.0657 - accuracy: 0.9845\n",
      "Epoch 8/100\n",
      "1313/1313 [==============================] - 57s 44ms/step - loss: 0.0341 - accuracy: 0.9932\n",
      "Epoch 15/100\n",
      "1313/1313 [==============================] - 46s 35ms/step - loss: 0.0345 - accuracy: 0.9928\n",
      "Epoch 16/100\n",
      "1313/1313 [==============================] - 44s 33ms/step - loss: 0.0368 - accuracy: 0.9932\n",
      "Epoch 17/100\n",
      "1313/1313 [==============================] - 42s 32ms/step - loss: 0.0340 - accuracy: 0.9935\n",
      "Epoch 18/100\n",
      "1313/1313 [==============================] - 40s 31ms/step - loss: 0.0203 - accuracy: 0.9958\n",
      "Epoch 19/100\n",
      "1313/1313 [==============================] - 39s 29ms/step - loss: 0.0266 - accuracy: 0.9945\n",
      "Epoch 20/100\n",
      "1313/1313 [==============================] - 38s 29ms/step - loss: 0.0314 - accuracy: 0.9933\n",
      "Epoch 21/100\n",
      "1313/1313 [==============================] - 38s 29ms/step - loss: 0.0338 - accuracy: 0.9931\n",
      "Epoch 22/100\n",
      "1313/1313 [==============================] - 39s 30ms/step - loss: 0.0400 - accuracy: 0.9940\n",
      "Epoch 23/100\n",
      "1313/1313 [==============================] - 38s 29ms/step - loss: 0.0232 - accuracy: 0.9954\n",
      "Epoch 24/100\n",
      "1313/1313 [==============================] - 36s 28ms/step - loss: 0.0222 - accuracy: 0.9962\n",
      "Epoch 25/100\n",
      "1313/1313 [==============================] - 36s 27ms/step - loss: 0.0229 - accuracy: 0.9954\n",
      "Epoch 26/100\n",
      "1313/1313 [==============================] - 36s 27ms/step - loss: 0.0266 - accuracy: 0.9946\n",
      "Epoch 27/100\n",
      "1313/1313 [==============================] - 44s 33ms/step - loss: 0.0267 - accuracy: 0.9950\n",
      "Epoch 28/100\n",
      "1313/1313 [==============================] - 40s 31ms/step - loss: 0.0279 - accuracy: 0.9950\n",
      "Epoch 29/100\n",
      "1313/1313 [==============================] - 39s 30ms/step - loss: 0.0253 - accuracy: 0.9952\n",
      "Epoch 30/100\n",
      "1313/1313 [==============================] - 38s 29ms/step - loss: 0.0167 - accuracy: 0.9969\n",
      "Epoch 31/100\n",
      "1313/1313 [==============================] - 38s 29ms/step - loss: 0.0217 - accuracy: 0.9960\n",
      "Epoch 32/100\n",
      "1313/1313 [==============================] - 38s 29ms/step - loss: 0.0195 - accuracy: 0.9969\n",
      "Epoch 33/100\n",
      "1313/1313 [==============================] - 37s 28ms/step - loss: 0.0166 - accuracy: 0.9971\n",
      "Epoch 34/100\n",
      "1313/1313 [==============================] - 38s 29ms/step - loss: 0.0262 - accuracy: 0.9952\n",
      "Epoch 35/100\n",
      "1313/1313 [==============================] - 36s 27ms/step - loss: 0.0137 - accuracy: 0.9973\n",
      "Epoch 36/100\n",
      "1313/1313 [==============================] - 36s 27ms/step - loss: 0.0155 - accuracy: 0.9967\n",
      "Epoch 37/100\n",
      "1313/1313 [==============================] - 36s 27ms/step - loss: 0.0293 - accuracy: 0.9970\n",
      "Epoch 38/100\n",
      "1313/1313 [==============================] - 38s 29ms/step - loss: 0.0407 - accuracy: 0.9946\n",
      "Epoch 39/100\n",
      "1313/1313 [==============================] - 40s 31ms/step - loss: 0.0177 - accuracy: 0.9962\n",
      "Epoch 40/100\n",
      "1313/1313 [==============================] - 36s 28ms/step - loss: 0.0244 - accuracy: 0.9964\n",
      "Epoch 41/100\n",
      "1313/1313 [==============================] - 36s 27ms/step - loss: 0.0095 - accuracy: 0.9982\n",
      "Epoch 42/100\n",
      "1313/1313 [==============================] - 36s 27ms/step - loss: 0.0119 - accuracy: 0.9978\n",
      "Epoch 43/100\n",
      "1313/1313 [==============================] - 47s 35ms/step - loss: 0.0596 - accuracy: 0.9928\n",
      "Epoch 44/100\n",
      "1313/1313 [==============================] - 36s 27ms/step - loss: 0.0254 - accuracy: 0.9958\n",
      "Epoch 45/100\n",
      "1313/1313 [==============================] - 36s 27ms/step - loss: 0.0736 - accuracy: 0.9933\n",
      "Epoch 46/100\n",
      "1313/1313 [==============================] - 36s 27ms/step - loss: 0.0243 - accuracy: 0.9964\n",
      "Epoch 47/100\n",
      "1313/1313 [==============================] - 36s 28ms/step - loss: 0.1153 - accuracy: 0.9795\n",
      "Epoch 48/100\n",
      "1313/1313 [==============================] - 41s 31ms/step - loss: 0.0600 - accuracy: 0.9950\n",
      "Epoch 49/100\n",
      "1313/1313 [==============================] - 40s 30ms/step - loss: 0.0336 - accuracy: 0.9966\n",
      "Epoch 50/100\n",
      "1313/1313 [==============================] - 36s 27ms/step - loss: 0.0312 - accuracy: 0.9966\n",
      "Epoch 51/100\n",
      "1313/1313 [==============================] - 36s 27ms/step - loss: 0.0280 - accuracy: 0.9964\n",
      "Epoch 52/100\n",
      "1313/1313 [==============================] - 36s 27ms/step - loss: 0.0280 - accuracy: 0.9954\n",
      "Epoch 53/100\n",
      "1313/1313 [==============================] - 37s 28ms/step - loss: 0.0500 - accuracy: 0.9963\n",
      "Epoch 54/100\n",
      "1313/1313 [==============================] - 40s 30ms/step - loss: 0.0516 - accuracy: 0.9936\n",
      "Epoch 55/100\n",
      "1313/1313 [==============================] - 63s 48ms/step - loss: 0.0206 - accuracy: 0.9970\n",
      "Epoch 58/100\n",
      "1313/1313 [==============================] - 71s 54ms/step - loss: 0.0188 - accuracy: 0.9974\n",
      "Epoch 59/100\n",
      "1313/1313 [==============================] - 58s 44ms/step - loss: 0.0425 - accuracy: 0.9963\n",
      "Epoch 60/100\n",
      " 923/1313 [====================>.........] - ETA: 17s - loss: 0.0350 - accuracy: 0.9941"
     ]
    },
    {
     "name": "stderr",
     "output_type": "stream",
     "text": [
      "IOPub message rate exceeded.\n",
      "The Jupyter server will temporarily stop sending output\n",
      "to the client in order to avoid crashing it.\n",
      "To change this limit, set the config variable\n",
      "`--ServerApp.iopub_msg_rate_limit`.\n",
      "\n",
      "Current values:\n",
      "ServerApp.iopub_msg_rate_limit=1000.0 (msgs/sec)\n",
      "ServerApp.rate_limit_window=3.0 (secs)\n",
      "\n"
     ]
    },
    {
     "name": "stdout",
     "output_type": "stream",
     "text": [
      "1313/1313 [==============================] - 56s 43ms/step - loss: 0.0355 - accuracy: 0.9957\n",
      "Epoch 62/100\n",
      "1313/1313 [==============================] - 46s 35ms/step - loss: 0.0346 - accuracy: 0.9951\n",
      "Epoch 63/100\n",
      "1313/1313 [==============================] - 43s 33ms/step - loss: 0.0505 - accuracy: 0.9955\n",
      "Epoch 64/100\n",
      "1313/1313 [==============================] - 44s 33ms/step - loss: 0.0186 - accuracy: 0.9971\n",
      "Epoch 68/100\n",
      "1313/1313 [==============================] - 40s 30ms/step - loss: 0.0143 - accuracy: 0.9974\n",
      "Epoch 73/100\n",
      "1313/1313 [==============================] - 39s 30ms/step - loss: 0.0394 - accuracy: 0.9959\n",
      "Epoch 74/100\n",
      "1313/1313 [==============================] - 58s 44ms/step - loss: 0.0267 - accuracy: 0.9965\n",
      "Epoch 79/100\n",
      "1313/1313 [==============================] - 40s 30ms/step - loss: 0.0469 - accuracy: 0.9966\n",
      "Epoch 80/100\n",
      "1313/1313 [==============================] - 43s 33ms/step - loss: 0.0151 - accuracy: 0.9977\n",
      "Epoch 81/100\n",
      "1313/1313 [==============================] - 42s 32ms/step - loss: 0.0355 - accuracy: 0.9967\n",
      "Epoch 82/100\n",
      "1313/1313 [==============================] - 42s 32ms/step - loss: 0.0095 - accuracy: 0.9983\n",
      "Epoch 83/100\n",
      "1313/1313 [==============================] - 52s 40ms/step - loss: 0.0251 - accuracy: 0.9978\n",
      "Epoch 84/100\n",
      "1313/1313 [==============================] - 42s 32ms/step - loss: 0.0257 - accuracy: 0.9967\n",
      "Epoch 85/100\n",
      "1313/1313 [==============================] - 42s 32ms/step - loss: 0.0207 - accuracy: 0.9974\n",
      "Epoch 86/100\n",
      "1313/1313 [==============================] - 40s 31ms/step - loss: 0.0303 - accuracy: 0.9963\n",
      "Epoch 87/100\n",
      "1313/1313 [==============================] - 37s 28ms/step - loss: 0.0123 - accuracy: 0.9981\n",
      "Epoch 90/100\n",
      "1313/1313 [==============================] - 36s 27ms/step - loss: 0.0519 - accuracy: 0.9950\n",
      "Epoch 91/100\n",
      "1313/1313 [==============================] - 39s 30ms/step - loss: 0.0323 - accuracy: 0.9955\n",
      "Epoch 95/100\n",
      "1313/1313 [==============================] - 38s 29ms/step - loss: 0.0410 - accuracy: 0.9964\n",
      "Epoch 96/100\n",
      "1313/1313 [==============================] - 38s 29ms/step - loss: 0.0158 - accuracy: 0.9974\n",
      "Epoch 97/100\n",
      "1313/1313 [==============================] - 40s 31ms/step - loss: 0.0179 - accuracy: 0.9972\n",
      "Epoch 98/100\n",
      " 202/1313 [===>..........................] - ETA: 36s - loss: 0.0051 - accuracy: 0.9994"
     ]
    }
   ],
   "source": [
    "history=model.fit(X_train,Y_train,epochs=100)"
   ]
  },
  {
   "cell_type": "code",
   "execution_count": 32,
   "id": "b05ffc6f-0f25-4ab9-868e-d58842c60968",
   "metadata": {},
   "outputs": [
    {
     "name": "stdout",
     "output_type": "stream",
     "text": [
      "875/875 [==============================] - 6s 6ms/step\n"
     ]
    }
   ],
   "source": [
    "predictions=model.predict(X_test)"
   ]
  },
  {
   "cell_type": "code",
   "execution_count": 33,
   "id": "4ac63f38-8164-440e-94b3-84db1c2ab130",
   "metadata": {},
   "outputs": [],
   "source": [
    "predictions=np.argmax(predictions,axis=1)"
   ]
  },
  {
   "cell_type": "code",
   "execution_count": 34,
   "id": "38b32f93-cbf5-458a-a69f-914a5f3e2b68",
   "metadata": {},
   "outputs": [
    {
     "data": {
      "text/html": [
       "<div>\n",
       "<style scoped>\n",
       "    .dataframe tbody tr th:only-of-type {\n",
       "        vertical-align: middle;\n",
       "    }\n",
       "\n",
       "    .dataframe tbody tr th {\n",
       "        vertical-align: top;\n",
       "    }\n",
       "\n",
       "    .dataframe thead th {\n",
       "        text-align: right;\n",
       "    }\n",
       "</style>\n",
       "<table border=\"1\" class=\"dataframe\">\n",
       "  <thead>\n",
       "    <tr style=\"text-align: right;\">\n",
       "      <th></th>\n",
       "      <th>ImageId</th>\n",
       "      <th>Label</th>\n",
       "    </tr>\n",
       "  </thead>\n",
       "  <tbody>\n",
       "    <tr>\n",
       "      <th>0</th>\n",
       "      <td>1</td>\n",
       "      <td>2</td>\n",
       "    </tr>\n",
       "    <tr>\n",
       "      <th>1</th>\n",
       "      <td>2</td>\n",
       "      <td>0</td>\n",
       "    </tr>\n",
       "    <tr>\n",
       "      <th>2</th>\n",
       "      <td>3</td>\n",
       "      <td>9</td>\n",
       "    </tr>\n",
       "    <tr>\n",
       "      <th>3</th>\n",
       "      <td>4</td>\n",
       "      <td>6</td>\n",
       "    </tr>\n",
       "    <tr>\n",
       "      <th>4</th>\n",
       "      <td>5</td>\n",
       "      <td>3</td>\n",
       "    </tr>\n",
       "    <tr>\n",
       "      <th>...</th>\n",
       "      <td>...</td>\n",
       "      <td>...</td>\n",
       "    </tr>\n",
       "    <tr>\n",
       "      <th>27995</th>\n",
       "      <td>27996</td>\n",
       "      <td>9</td>\n",
       "    </tr>\n",
       "    <tr>\n",
       "      <th>27996</th>\n",
       "      <td>27997</td>\n",
       "      <td>7</td>\n",
       "    </tr>\n",
       "    <tr>\n",
       "      <th>27997</th>\n",
       "      <td>27998</td>\n",
       "      <td>3</td>\n",
       "    </tr>\n",
       "    <tr>\n",
       "      <th>27998</th>\n",
       "      <td>27999</td>\n",
       "      <td>9</td>\n",
       "    </tr>\n",
       "    <tr>\n",
       "      <th>27999</th>\n",
       "      <td>28000</td>\n",
       "      <td>2</td>\n",
       "    </tr>\n",
       "  </tbody>\n",
       "</table>\n",
       "<p>28000 rows × 2 columns</p>\n",
       "</div>"
      ],
      "text/plain": [
       "       ImageId  Label\n",
       "0            1      2\n",
       "1            2      0\n",
       "2            3      9\n",
       "3            4      6\n",
       "4            5      3\n",
       "...        ...    ...\n",
       "27995    27996      9\n",
       "27996    27997      7\n",
       "27997    27998      3\n",
       "27998    27999      9\n",
       "27999    28000      2\n",
       "\n",
       "[28000 rows x 2 columns]"
      ]
     },
     "metadata": {},
     "output_type": "display_data"
    }
   ],
   "source": [
    "sample_submission['Label']=predictions\n",
    "sample_submission.to_csv('submission5.csv',index=False)\n",
    "display(sample_submission)"
   ]
  },
  {
   "cell_type": "code",
   "execution_count": null,
   "id": "eb6fd0ee-a296-44ea-a548-65424686bfc5",
   "metadata": {},
   "outputs": [],
   "source": []
  },
  {
   "cell_type": "code",
   "execution_count": null,
   "id": "c03df4bf-47fd-4121-9b1e-13e13188afec",
   "metadata": {},
   "outputs": [],
   "source": []
  },
  {
   "cell_type": "code",
   "execution_count": null,
   "id": "5e26ae0e-7086-45cf-b607-e0e9cbcb2019",
   "metadata": {},
   "outputs": [],
   "source": []
  }
 ],
 "metadata": {
  "kernelspec": {
   "display_name": "Python 3 (ipykernel)",
   "language": "python",
   "name": "python3"
  },
  "language_info": {
   "codemirror_mode": {
    "name": "ipython",
    "version": 3
   },
   "file_extension": ".py",
   "mimetype": "text/x-python",
   "name": "python",
   "nbconvert_exporter": "python",
   "pygments_lexer": "ipython3",
   "version": "3.10.12"
  }
 },
 "nbformat": 4,
 "nbformat_minor": 5
}
